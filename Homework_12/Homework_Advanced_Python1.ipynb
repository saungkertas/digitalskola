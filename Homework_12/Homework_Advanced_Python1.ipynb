{
 "cells": [
  {
   "cell_type": "code",
   "execution_count": 68,
   "metadata": {},
   "outputs": [],
   "source": [
    "import os\n",
    "import multiprocessing\n",
    "\n",
    "dir = \"C:\\\\Users\\\\Default.Default-THINK\\\\Dropbox\\\\My PC (Default-THINK)\\\\Documents\\\\DigitalSkola\\\\Homework_12\\\\covid_data_2020\\\\\"\n",
    "directory = os.listdir(dir)\n",
    "\n",
    "searchstring = \"Indonesia\"\n",
    "\n",
    "for fname in directory:\n",
    "    if os.path.isfile(dir + fname):    \n",
    "        with open(dir + fname,'r') as fileku: #read all csv file inside folder\n",
    "            for line in fileku: #looping for search file\n",
    "                if searchstring in line: # find 'indonesia' in looping\n",
    "                    line = line.rstrip('\\n') #remove space between line\n",
    "                    with open(dir + 'wisnu_covid_indonesia_2020.csv','w') as f: #append data to new file csv\n",
    "                        print(line, file=f)\n",
    "\n"
   ]
  },
  {
   "cell_type": "code",
   "execution_count": 96,
   "metadata": {},
   "outputs": [],
   "source": [
    "import csv\n",
    "\n",
    "month = {'01':'Jan','02':'Feb','03':'Mar','04':'Apr','05':'May','06':'Jun','07':'Jul','08':'Aug','09':'Sep','10':'Oct','11':'Nov','12':'Dec'}\n",
    "\n",
    "\n",
    "results = []\n",
    "with open('wisnu_covid_indonesia_2020.csv') as File:\n",
    "    reader = csv.reader(File, delimiter=',') \n",
    "    for row in reader: # each row is a list\n",
    "        results.append(row) # put result from csv reader to list\n",
    "\n",
    "header = ['month','year','total_active_case','total_death_case'] #header for summary csv file\n",
    "with open('wisnu_monthly_report_covid_indonesia_2020.csv','w') as file_sum: # write new csv file\n",
    "    writer = csv.writer(file_sum, lineterminator='\\n') # assign variable for csv writer with remove newline\n",
    "    writer.writerow(header) \n",
    "    for i in month:\n",
    "        active_list = []\n",
    "        death_list = []\n",
    "        for row in results:\n",
    "            if (row[0][5:7]) == i:\n",
    "                active_list.append(int(row[1]))\n",
    "                death_list.append(int(row[2]))\n",
    "        summary = [month[i],'2021',sum(active_list),sum(death_list)]\n",
    "        writer.writerow(summary)   "
   ]
  }
 ],
 "metadata": {
  "interpreter": {
   "hash": "776ac9d0ec898c6524e7db8e7f987e0ddba60fb00810124ea30f8357cca6f0a4"
  },
  "kernelspec": {
   "display_name": "Python 3.10.1 64-bit",
   "language": "python",
   "name": "python3"
  },
  "language_info": {
   "codemirror_mode": {
    "name": "ipython",
    "version": 3
   },
   "file_extension": ".py",
   "mimetype": "text/x-python",
   "name": "python",
   "nbconvert_exporter": "python",
   "pygments_lexer": "ipython3",
   "version": "3.10.1"
  },
  "orig_nbformat": 4
 },
 "nbformat": 4,
 "nbformat_minor": 2
}
