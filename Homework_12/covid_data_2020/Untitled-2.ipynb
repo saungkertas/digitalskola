{
 "cells": [
  {
   "cell_type": "code",
   "execution_count": 68,
   "metadata": {},
   "outputs": [],
   "source": [
    "import os\n",
    "\n",
    "dir = \"C:\\\\Users\\\\Default.Default-THINK\\\\Dropbox\\\\My PC (Default-THINK)\\\\Documents\\\\DigitalSkola\\\\Homework_12\\\\covid_data_2020\\\\\"\n",
    "directory = os.listdir(dir)\n",
    "\n",
    "searchstring = \"Indonesia\"\n",
    "\n",
    "# for fname in directory:\n",
    "#     if os.path.isfile(directory + os.sep + fname):\n",
    "for fname in directory:\n",
    "    if os.path.isfile(dir + fname):    \n",
    "        with open(dir + fname,'r') as fileku:\n",
    "            for line in fileku:\n",
    "                if searchstring in line:\n",
    "                    line = line.rstrip('\\n')\n",
    "                    with open(dir + 'wisnu_covid_indonesia_2020.csv','a') as f:\n",
    "                        print(line, file=f)\n",
    "                  \n",
    "\n"
   ]
  },
  {
   "cell_type": "code",
   "execution_count": 159,
   "metadata": {},
   "outputs": [
    {
     "name": "stdout",
     "output_type": "stream",
     "text": [
      "Kasus aktif pada bulan 01 adalah 13 orang, sedangkan kematian adalah  orang\n",
      "Kasus aktif pada bulan 02 adalah 13 orang, sedangkan kematian adalah  orang\n",
      "Kasus aktif pada bulan 03 adalah 13 orang, sedangkan kematian adalah  orang\n",
      "Kasus aktif pada bulan 04 adalah 13 orang, sedangkan kematian adalah  orang\n",
      "Kasus aktif pada bulan 05 adalah 13 orang, sedangkan kematian adalah  orang\n",
      "Kasus aktif pada bulan 06 adalah 13 orang, sedangkan kematian adalah  orang\n",
      "Kasus aktif pada bulan 07 adalah 13 orang, sedangkan kematian adalah  orang\n",
      "Kasus aktif pada bulan 08 adalah 13 orang, sedangkan kematian adalah  orang\n",
      "Kasus aktif pada bulan 09 adalah 13 orang, sedangkan kematian adalah  orang\n",
      "Kasus aktif pada bulan 10 adalah 13 orang, sedangkan kematian adalah  orang\n",
      "Kasus aktif pada bulan 11 adalah 13 orang, sedangkan kematian adalah  orang\n",
      "Kasus aktif pada bulan 12 adalah 13 orang, sedangkan kematian adalah  orang\n"
     ]
    }
   ],
   "source": [
    "import csv\n",
    "\n",
    "month = {1:'01',2:'02',3:'03',4:'04',5:'05',6:'06',7:'07',8:'08',9:'09',10:'10',11:'11',12:'12'} \n",
    "#month = {'01':'Jan','02':'Feb','03':'Mar','04':'Apr','05':'May','06':'Jun','07':'Jul','08':'Aug','09':'Sep','10':'Oct','11':'Nov','12':'Dec'}\n",
    "#mon = ['01','02','03','04','05','06','07','08','09','10','11','12'] \n",
    "mon_key = month.keys()\n",
    "\n",
    "with open('wisnu_covid_indonesia_2020.csv') as File:\n",
    "    reader = csv.reader(File, delimiter=',', quotechar='-')\n",
    "\n",
    "    for i in month:\n",
    "        active_list = []\n",
    "        death_list = []\n",
    "        for row in reader:\n",
    "            if (row[0][5:7]) == '04':\n",
    "                # row[1] = active_list.append(int(row[1]))\n",
    "                # row[2] = death_list.append(int(row[2]))\n",
    "                active = int(row[2])\n",
    "        # active = active + 1\n",
    "        #print(f'Kasus aktif pada bulan {month1[i]} adalah {sum(active_list)} orang, sedangkan kematian adalah {sum(death_list)} orang')\n",
    "        print(f'Kasus aktif pada bulan {month[i]} adalah {active} orang, sedangkan kematian adalah  orang')\n",
    "     \n"
   ]
  },
  {
   "cell_type": "code",
   "execution_count": 158,
   "metadata": {},
   "outputs": [
    {
     "name": "stdout",
     "output_type": "stream",
     "text": [
      "Kasus aktif pada bulan Jan adalah 8357 orang, sedangkan kematian adalah 662 orang\n",
      "Kasus aktif pada bulan Feb adalah 0 orang, sedangkan kematian adalah 0 orang\n",
      "Kasus aktif pada bulan Mar adalah 0 orang, sedangkan kematian adalah 0 orang\n",
      "Kasus aktif pada bulan Apr adalah 0 orang, sedangkan kematian adalah 0 orang\n",
      "Kasus aktif pada bulan May adalah 0 orang, sedangkan kematian adalah 0 orang\n",
      "Kasus aktif pada bulan Jun adalah 0 orang, sedangkan kematian adalah 0 orang\n",
      "Kasus aktif pada bulan Jul adalah 0 orang, sedangkan kematian adalah 0 orang\n",
      "Kasus aktif pada bulan Aug adalah 0 orang, sedangkan kematian adalah 0 orang\n",
      "Kasus aktif pada bulan Sep adalah 0 orang, sedangkan kematian adalah 0 orang\n",
      "Kasus aktif pada bulan Oct adalah 0 orang, sedangkan kematian adalah 0 orang\n",
      "Kasus aktif pada bulan Nov adalah 0 orang, sedangkan kematian adalah 0 orang\n",
      "Kasus aktif pada bulan Dec adalah 0 orang, sedangkan kematian adalah 0 orang\n"
     ]
    }
   ],
   "source": [
    "import csv\n",
    "\n",
    "#month = {1:'01',2:'02',3:'03',4:'04',5:'05',6:'06',7:'07',8:'08',9:'09',10:'10',11:'11',12:'12'} \n",
    "month1 = {'01':'Jan','02':'Feb','03':'Mar','04':'Apr','05':'May','06':'Jun','07':'Jul','08':'Aug','09':'Sep','10':'Oct','11':'Nov','12':'Dec'}\n",
    "mon = ['01','02','03','04','05','06','07','08','09','10','11','12'] \n",
    "\n",
    "with open('wisnu_covid_indonesia_2020.csv') as File:\n",
    "    reader = csv.reader(File, delimiter=',', quotechar='-')\n",
    "\n",
    "    for i in mon:\n",
    "        active_list = []\n",
    "        death_list = []\n",
    "        for row in reader:\n",
    "            if (row[0][5:7]) == '04':\n",
    "                row[1] = active_list.append(int(row[1]))\n",
    "                row[2] = death_list.append(int(row[2]))\n",
    "                #active = int(row[1]) + int(row[1])\n",
    "        print(f'Kasus aktif pada bulan {month1[i]} adalah {sum(active_list)} orang, sedangkan kematian adalah {sum(death_list)} orang')\n",
    "        #print(f'Kasus aktif pada bulan {month1[i]} adalah {active} orang, sedangkan kematian adalah  orang')\n",
    "     "
   ]
  }
 ],
 "metadata": {
  "interpreter": {
   "hash": "776ac9d0ec898c6524e7db8e7f987e0ddba60fb00810124ea30f8357cca6f0a4"
  },
  "kernelspec": {
   "display_name": "Python 3.10.1 64-bit",
   "language": "python",
   "name": "python3"
  },
  "language_info": {
   "codemirror_mode": {
    "name": "ipython",
    "version": 3
   },
   "file_extension": ".py",
   "mimetype": "text/x-python",
   "name": "python",
   "nbconvert_exporter": "python",
   "pygments_lexer": "ipython3",
   "version": "3.10.1"
  },
  "orig_nbformat": 4
 },
 "nbformat": 4,
 "nbformat_minor": 2
}
