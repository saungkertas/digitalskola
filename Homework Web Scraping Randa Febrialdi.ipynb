{
 "cells": [
  {
   "cell_type": "code",
   "execution_count": null,
   "id": "6e08a6b3",
   "metadata": {},
   "outputs": [],
   "source": [
    "import urllib.request\n",
    "import json\n",
    "import csv\n",
    "\n",
    "url = \"https://shopee.co.id/api/v4/search/search_items?by=relevancy&limit=60&match_id=1028154&newest=0&order=desc&page_type=collection&scenario=PAGE_COLLECTION_SEARCH&version=2\"\n",
    "with urllib.request.urlopen(url) as url:\n",
    "    data_shopee = json.loads(url.read().decode())\n",
    "    \n",
    "header = ['name', 'price']\n",
    "fname = \"data shopee randa febrialdi.csv\"\n",
    "with open(fname,'w') as outf:\n",
    "    outcsv = csv.writer(outf)\n",
    "    outcsv.writerows(header)\n",
    "\n",
    "items = data_shopee['items']\n",
    "    \n",
    "for item in items :\n",
    "    name = item['item_basic']['name']\n",
    "    price = item['item_basic']['price']\n",
    "    df = [name, price]\n",
    "    outcsv.writerows(df)"
   ]
  },
  {
   "cell_type": "code",
   "execution_count": null,
   "id": "f1ad772d",
   "metadata": {},
   "outputs": [],
   "source": []
  }
 ],
 "metadata": {
  "kernelspec": {
   "display_name": "Python 3",
   "language": "python",
   "name": "python3"
  },
  "language_info": {
   "codemirror_mode": {
    "name": "ipython",
    "version": 3
   },
   "file_extension": ".py",
   "mimetype": "text/x-python",
   "name": "python",
   "nbconvert_exporter": "python",
   "pygments_lexer": "ipython3",
   "version": "3.8.8"
  }
 },
 "nbformat": 4,
 "nbformat_minor": 5
}
